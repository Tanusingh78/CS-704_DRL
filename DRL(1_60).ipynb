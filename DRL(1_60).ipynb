{
  "nbformat": 4,
  "nbformat_minor": 0,
  "metadata": {
    "colab": {
      "provenance": []
    },
    "kernelspec": {
      "name": "python3",
      "display_name": "Python 3"
    },
    "language_info": {
      "name": "python"
    }
  },
  "cells": [
    {
      "cell_type": "markdown",
      "source": [
        "**1.Basic Array Creation**\n",
        "\n",
        "1. Create a 1D array with the elements [1, 2, 3, 4, 5].\n",
        "2. Create a 2D array with the elements [[1, 2, 3], [4, 5, 6]].\n",
        "3. Create a 3x3 array filled with zeros.\n",
        "4. Create a 2x2 array filled with ones."
      ],
      "metadata": {
        "id": "HGaZIAluumq7"
      }
    },
    {
      "cell_type": "code",
      "source": [
        "# creat 1d arraY\n",
        "import numpy as np\n",
        "arr= np.array([1,2,3,4,5])\n",
        "print(\"1D array\",arr)"
      ],
      "metadata": {
        "id": "GEsz4DXCutKz",
        "colab": {
          "base_uri": "https://localhost:8080/"
        },
        "outputId": "cb151ed4-f76a-48f0-c28b-4f105b1031f3"
      },
      "execution_count": 34,
      "outputs": [
        {
          "output_type": "stream",
          "name": "stdout",
          "text": [
            "1D array [1 2 3 4 5]\n"
          ]
        }
      ]
    },
    {
      "cell_type": "code",
      "source": [
        "# creat 2d array\n",
        "import numpy as np\n",
        "arr2d=np.array([[1,2,3],[4,5,6]])\n",
        "print(\"2D array=\\n\",arr2d)"
      ],
      "metadata": {
        "colab": {
          "base_uri": "https://localhost:8080/"
        },
        "id": "Q-NpUvSh5iF_",
        "outputId": "70c41e11-8893-4c50-a57b-bf096add9153"
      },
      "execution_count": null,
      "outputs": [
        {
          "output_type": "stream",
          "name": "stdout",
          "text": [
            "2D array=\n",
            " [[1 2 3]\n",
            " [4 5 6]]\n"
          ]
        }
      ]
    },
    {
      "cell_type": "code",
      "source": [
        "# creat an array with zero\n",
        "zero_arr= np.zeros((3,3))\n",
        "print(\"zero array:\\n\",zero_arr)"
      ],
      "metadata": {
        "colab": {
          "base_uri": "https://localhost:8080/"
        },
        "id": "b5Mvjxzn6Fp-",
        "outputId": "433d930c-4c2c-44d0-be70-99e55cf5f67b"
      },
      "execution_count": null,
      "outputs": [
        {
          "output_type": "stream",
          "name": "stdout",
          "text": [
            "zero array:\n",
            " [[0. 0. 0.]\n",
            " [0. 0. 0.]\n",
            " [0. 0. 0.]]\n"
          ]
        }
      ]
    },
    {
      "cell_type": "code",
      "source": [
        "#creat once array\n",
        "ones_arr= np.ones((2,2))\n",
        "print(\"once array:\\n\",ones_arr)"
      ],
      "metadata": {
        "colab": {
          "base_uri": "https://localhost:8080/"
        },
        "id": "nrXqo5OX6_XA",
        "outputId": "0a669d8f-bade-41b6-ddc1-79b397d4f686"
      },
      "execution_count": null,
      "outputs": [
        {
          "output_type": "stream",
          "name": "stdout",
          "text": [
            "once array:\n",
            " [[1. 1.]\n",
            " [1. 1.]]\n"
          ]
        }
      ]
    },
    {
      "cell_type": "markdown",
      "source": [
        "**2.Array Operations**\n",
        "\n",
        "1. Create two arrays: a = [1, 2, 3] and b = [4, 5, 6].\n",
        "2. Perform element-wise addition, subtraction, multiplication, and division on these arrays."
      ],
      "metadata": {
        "id": "WfWqj7CovxZV"
      }
    },
    {
      "cell_type": "code",
      "source": [
        "a= np.array([1,2,3])\n",
        "b= np.array([4,5,6])\n",
        "#additon\n",
        "sum_array=np.add(a,b)\n",
        "print(\"sum array:\",sum_array)\n",
        "\n",
        "#subtraction\n",
        "sub_arr=np.subtract(a,b)\n",
        "print(\"Different:\",sub_arr)\n",
        "\n",
        "#multiplication\n",
        "multi_arr=np.multiply(a,b)\n",
        "print(\"multiplication:\",multi_arr)\n",
        "\n",
        "# division\n",
        "div_arr=np.divide(a,b)\n",
        "print(\"product:\",div_arr)"
      ],
      "metadata": {
        "colab": {
          "base_uri": "https://localhost:8080/"
        },
        "id": "kwV5xgaT7oss",
        "outputId": "2e1c64dc-5528-48ba-d638-24d864cdff2b"
      },
      "execution_count": null,
      "outputs": [
        {
          "output_type": "stream",
          "name": "stdout",
          "text": [
            "sum array: [5 7 9]\n",
            "Different: [-3 -3 -3]\n",
            "multiplication: [ 4 10 18]\n",
            "product: [0.25 0.4  0.5 ]\n"
          ]
        }
      ]
    },
    {
      "cell_type": "markdown",
      "source": [
        "**3.Matrix Multiplication**\n",
        "\n",
        "1. Create two matrices: matrix_a = [[1, 2], [3, 4]] and matrix_b = [[5, 6], [7, 8]].\n",
        "2. Perform matrix multiplication on these matrices."
      ],
      "metadata": {
        "id": "11UHqUoSv8yK"
      }
    },
    {
      "cell_type": "code",
      "source": [
        "matrix_a=np.array([[1,2],[3,4]])\n",
        "matrix_b=np.array([[5,6],[7,8]])\n",
        "\n",
        "#multiplicastion\n",
        "matrix_product=np.dot(matrix_a,matrix_b)\n",
        "print(\"multiplication:\\n\",matrix_product)\n",
        "\n",
        "\n"
      ],
      "metadata": {
        "colab": {
          "base_uri": "https://localhost:8080/"
        },
        "id": "pzbTcJVg9wi7",
        "outputId": "1a4ac850-b118-4e74-ffaa-f78980bde254"
      },
      "execution_count": 40,
      "outputs": [
        {
          "output_type": "stream",
          "name": "stdout",
          "text": [
            "multiplication:\n",
            " [[19 22]\n",
            " [43 50]]\n"
          ]
        }
      ]
    },
    {
      "cell_type": "markdown",
      "source": [
        "**4.Broadcasting**\n",
        "\n",
        "1. Create an array: array = [1, 2, 3].\n",
        "2. Multiply this array by a scalar value, e.g., 2, using broadcasting."
      ],
      "metadata": {
        "id": "0cVL5HWVwGMI"
      }
    },
    {
      "cell_type": "code",
      "source": [
        "# create an array and a scalar\n",
        "array=np.array([1,2,3])\n",
        "scalar=2\n",
        "# broadcasted\n",
        "broadcasted_array = array*scalar\n",
        "print(\"Broadcasting Array:\",broadcasted_array)\n"
      ],
      "metadata": {
        "id": "zqv-VjkWEtTR",
        "colab": {
          "base_uri": "https://localhost:8080/"
        },
        "outputId": "9ce9e70d-4b77-4fac-cf6a-d26aefdfeecd"
      },
      "execution_count": null,
      "outputs": [
        {
          "output_type": "stream",
          "name": "stdout",
          "text": [
            "Broadcasting Array: [2 4 6]\n"
          ]
        }
      ]
    },
    {
      "cell_type": "markdown",
      "source": [
        "\n",
        "**5.Statistical Operations**\n",
        "\n",
        "1. Create an array: data = [1, 2, 3, 4, 5].\n",
        "2. Calculate the mean, standard deviation, and sum of this array."
      ],
      "metadata": {
        "id": "EJZyYLbkIEeY"
      }
    },
    {
      "cell_type": "code",
      "source": [
        "# create an array\n",
        "import numpy as np\n",
        "data = np.array([1,2,3,4,5])\n",
        "\n",
        "#Mean\n",
        "mean_value=np.mean(data)\n",
        "print(\"MEAN:\",mean_value)\n",
        "\n",
        "# STANDARD deviation\n",
        "std_value = np.std(data)\n",
        "print(\"Standard Derivation:\",std_value)\n",
        "\n",
        "#sum\n",
        "sum_value=np.sum(data)\n",
        "print(\"Sum:\",sum_value)"
      ],
      "metadata": {
        "colab": {
          "base_uri": "https://localhost:8080/"
        },
        "id": "HIt5ebwHH_vB",
        "outputId": "2b041d77-082d-47a5-e928-84badcdcd362"
      },
      "execution_count": null,
      "outputs": [
        {
          "output_type": "stream",
          "name": "stdout",
          "text": [
            "MEAN: 3.0\n",
            "Standard Derivation: 1.4142135623730951\n",
            "Sum: 15\n"
          ]
        }
      ]
    },
    {
      "cell_type": "markdown",
      "source": [
        "**6.Reshaping Arrays**\n",
        "\n",
        "1. Create a 1D array: array = [1, 2, 3, 4, 5, 6].\n",
        "2. Reshape this array to a 2x3 array.\n",
        "3. Reshape the same array to a 3x2 array."
      ],
      "metadata": {
        "id": "ipDUjqU3J3Uo"
      }
    },
    {
      "cell_type": "code",
      "source": [
        "array=np.array([1,2,3,4,5,6])\n",
        "\n",
        "# reshape to 2x3\n",
        "reshaped_arr=array.reshape((2,3))\n",
        "print(\"reshaped Array:\\n\",reshaped_arr)\n",
        "\n",
        "# reshape to 3x2\n",
        "reshaped_arr=array.reshape((3,2))\n",
        "print(\"reshaped Array:\\n\",reshaped_arr)"
      ],
      "metadata": {
        "colab": {
          "base_uri": "https://localhost:8080/"
        },
        "id": "ifeUSiZCH_-n",
        "outputId": "f97de0f6-3481-4619-f966-3075782042f2"
      },
      "execution_count": null,
      "outputs": [
        {
          "output_type": "stream",
          "name": "stdout",
          "text": [
            "reshaped Array:\n",
            " [[1 2 3]\n",
            " [4 5 6]]\n",
            "reshaped Array:\n",
            " [[1 2]\n",
            " [3 4]\n",
            " [5 6]]\n"
          ]
        }
      ]
    },
    {
      "cell_type": "markdown",
      "source": [
        "**7.Element-wise Operations**\n",
        "1. Create two arrays: array_a = [1, 2, 3] and array_b = [4, 5, 6].\n",
        "2. Perform element-wise addition and multiplication on these arrays."
      ],
      "metadata": {
        "id": "wjDUYrOTpxGT"
      }
    },
    {
      "cell_type": "code",
      "source": [
        "import numpy as np\n",
        "# Create two arrays\n",
        "array_a = np.array([1, 2, 3])\n",
        "array_b = np.array([4, 5, 6])\n",
        "\n",
        "# Element-wise addition\n",
        "add_result = array_a + array_b\n",
        "print(\"Element-wise Addition:\", add_result)\n",
        "\n",
        "# Element-wise multiplication\n",
        "multiply_result = array_a * array_b\n",
        "print(\"Element-wise Multiplication:\", multiply_result)"
      ],
      "metadata": {
        "id": "EaIYdqgaIAIf",
        "colab": {
          "base_uri": "https://localhost:8080/"
        },
        "outputId": "5f5b4ef1-b9ed-434c-8e30-d02942c0d266"
      },
      "execution_count": null,
      "outputs": [
        {
          "output_type": "stream",
          "name": "stdout",
          "text": [
            "Element-wise Addition: [5 7 9]\n",
            "Element-wise Multiplication: [ 4 10 18]\n"
          ]
        }
      ]
    },
    {
      "cell_type": "markdown",
      "source": [
        "**8.Slicing and Indexing**\n",
        "\n",
        "1. Create a 2D array: array_2d = [[1, 2, 3], [4, 5, 6], [7, 8, 9]].\n",
        "2. Access the element at row 1, column 1.\n",
        "3. Access row 1.\n",
        "4. Access column 1."
      ],
      "metadata": {
        "id": "0qLNagr2qGCx"
      }
    },
    {
      "cell_type": "code",
      "source": [
        "import numpy as np\n",
        "# Create a 2D array\n",
        "array_2d = np.array([[1, 2, 3], [4, 5, 6], [7, 8, 9]])\n",
        "# Accessing an element\n",
        "ele= array_2d[1, 1]\n",
        "print(\"Element at [1, 1]:\", ele)\n",
        "# Accessing a row\n",
        "row = array_2d[1, :]\n",
        "print(\"Row 1:\", row)\n",
        "# Accessing a column\n",
        "column = array_2d[:, 1]\n",
        "print(\"Column 1:\", column)"
      ],
      "metadata": {
        "colab": {
          "base_uri": "https://localhost:8080/"
        },
        "id": "oP8_VlbBqKC1",
        "outputId": "c742b3c2-5b84-4a73-e1c7-18e63498c544"
      },
      "execution_count": null,
      "outputs": [
        {
          "output_type": "stream",
          "name": "stdout",
          "text": [
            "Element at [1, 1]: 5\n",
            "Row 1: [4 5 6]\n",
            "Column 1: [2 5 8]\n"
          ]
        }
      ]
    },
    {
      "cell_type": "markdown",
      "source": [
        "**9.Creating Random Arrays**\n",
        "\n",
        "1. Create a 3x3 array with random floats.\n",
        "2. Create a 3x3 array with random integers between 0 and 10."
      ],
      "metadata": {
        "id": "E023tI7rrqe5"
      }
    },
    {
      "cell_type": "code",
      "source": [
        "import numpy as np\n",
        "# Create a random array\n",
        "random_array = np.random.rand(3, 3)\n",
        "print(\"Random Array:\\n\", random_array)\n",
        "# Create a random integer array\n",
        "random_int_array = np.random.randint(0, 10, (3, 3))\n",
        "print(\"Random Integer Array:\\n\", random_int_array)"
      ],
      "metadata": {
        "colab": {
          "base_uri": "https://localhost:8080/"
        },
        "id": "y-Ht8WDxrvEa",
        "outputId": "5fee56a4-85e1-47e5-9815-a630671a46f4"
      },
      "execution_count": null,
      "outputs": [
        {
          "output_type": "stream",
          "name": "stdout",
          "text": [
            "Random Array:\n",
            " [[0.74223807 0.8044114  0.69969934]\n",
            " [0.80426606 0.10502935 0.4402522 ]\n",
            " [0.34602542 0.50787534 0.4994589 ]]\n",
            "Random Integer Array:\n",
            " [[3 6 9]\n",
            " [7 5 2]\n",
            " [0 8 5]]\n"
          ]
        }
      ]
    },
    {
      "cell_type": "markdown",
      "source": [
        "**10.Stacking and Concatenating Arrays**\n",
        "\n",
        "1. Create two arrays: array_a = [1, 2, 3] and array_b = [4, 5, 6].\n",
        "2. Perform vertical stacking on these arrays.\n",
        "3. Perform horizontal stacking on these arrays."
      ],
      "metadata": {
        "id": "3chmvFOIxKRb"
      }
    },
    {
      "cell_type": "code",
      "source": [
        "import numpy as np\n",
        "# Create two arrays\n",
        "array_a = np.array([1, 2, 3])\n",
        "array_b = np.array([4, 5, 6])\n",
        "\n",
        "# Vertical stack\n",
        "v_stack = np.vstack((array_a, array_b))\n",
        "print(\"Vertical Stack:\\n\", v_stack)\n",
        "\n",
        "# Horizontal stack\n",
        "h_stack = np.hstack((array_a, array_b))\n",
        "print(\"Horizontal Stack:\\n\", h_stack)"
      ],
      "metadata": {
        "colab": {
          "base_uri": "https://localhost:8080/"
        },
        "id": "j23_yRH2tMri",
        "outputId": "9a62c27a-9530-417e-c8f1-9294cf2f58c1"
      },
      "execution_count": null,
      "outputs": [
        {
          "output_type": "stream",
          "name": "stdout",
          "text": [
            "Vertical Stack:\n",
            " [[1 2 3]\n",
            " [4 5 6]]\n",
            "Horizontal Stack:\n",
            " [1 2 3 4 5 6]\n"
          ]
        }
      ]
    },
    {
      "cell_type": "markdown",
      "source": [
        "# numpy practise assignment"
      ],
      "metadata": {
        "id": "WAbh8mKxJRNd"
      }
    },
    {
      "cell_type": "markdown",
      "source": [
        "\n",
        " **1.Basic Array Creation**\n",
        "\n",
        "\n",
        "1. Create an array with 10 equally spaced numbers between 0 and 1.\n",
        "2. Create a 1D array of 20 random integers between 1 and 100.\n",
        "3. Create a 2D array with the shape (4, 4) filled with the value 7.\n",
        "4. Create a 1D array of 10 elements with the same value, 3.14.\n",
        "5. Create a 2D array with the shape (3, 3) with values ranging from 1 to 9."
      ],
      "metadata": {
        "id": "WB_bMXVaxsAF"
      }
    },
    {
      "cell_type": "code",
      "source": [
        "#Create an array with 10 equally spaced numbers between 0 and 1.\n",
        "import numpy as np\n",
        "arr=np.linspace(0,1,10)\n",
        "print(\"Array with 10 equally spaced numbers between 0 and 1:\\n\",arr)\n",
        "\n",
        "#Create a 1D array of 20 random integers between 1 and 100.\n",
        "random_int_arr=np.random.randint(1,100,20)\n",
        "print(\"\\n1D array of 20 random integers between 1 and 100:\\n\",random_int_arr)\n",
        "\n",
        "#Create a 2D array with the shape (4, 4) filled with the value 7\n",
        "arr=np.full((4,4),7)\n",
        "print(\"\\n2D array with the shape (4, 4) filled with the value 7:\\n\",arr)\n",
        "\n",
        "#Create a 1D array of 10 elements with the same value, 3.14.\n",
        "arr=np.full(10,3.14)\n",
        "print(\"\\n1D array of 10 elements with the same value, 3.14:\\n\",arr)\n",
        "\n",
        "#Create a 2D array with the shape (3, 3) with values ranging from 1 to 9.\n",
        "arr=np.arange(1,10).reshape(3,3)\n",
        "print(\"\\n2D array with the shape (3, 3) with values ranging from 1 to 9:\\n\",arr)"
      ],
      "metadata": {
        "id": "7afz17IUyFyY",
        "colab": {
          "base_uri": "https://localhost:8080/"
        },
        "outputId": "a724b934-addb-4ca0-ef4f-b6bec630f23d"
      },
      "execution_count": null,
      "outputs": [
        {
          "output_type": "stream",
          "name": "stdout",
          "text": [
            "Array with 10 equally spaced numbers between 0 and 1:\n",
            " [0.         0.11111111 0.22222222 0.33333333 0.44444444 0.55555556\n",
            " 0.66666667 0.77777778 0.88888889 1.        ]\n",
            "\n",
            "1D array of 20 random integers between 1 and 100:\n",
            " [28 87 14 43 48  6 47  6 31 87 39  4  2 25 10 20 95 70 60 62]\n",
            "\n",
            "2D array with the shape (4, 4) filled with the value 7:\n",
            " [[7 7 7 7]\n",
            " [7 7 7 7]\n",
            " [7 7 7 7]\n",
            " [7 7 7 7]]\n",
            "\n",
            "1D array of 10 elements with the same value, 3.14:\n",
            " [3.14 3.14 3.14 3.14 3.14 3.14 3.14 3.14 3.14 3.14]\n",
            "\n",
            "2D array with the shape (3, 3) with values ranging from 1 to 9:\n",
            " [[1 2 3]\n",
            " [4 5 6]\n",
            " [7 8 9]]\n"
          ]
        }
      ]
    },
    {
      "cell_type": "markdown",
      "source": [
        "**2.Array Operations**\n",
        "1. Create two arrays: a = [1, 3, 5, 7, 9] and b = [2, 4, 6, 8, 10]. Perform element-wise\n",
        "subtraction.\n",
        "2. Multiply array a by 3: a = [2, 4, 6, 8].\n",
        "3. Divide array a by 2: a = [10, 20, 30, 40].\n",
        "4. Find the element-wise modulus of two arrays: a = [5, 10, 15], b = [2, 3, 4].\n",
        "5. Create two arrays: a = [1, 2, 3], b = [4, 5, 6]. Compute the dot product."
      ],
      "metadata": {
        "id": "4rrvT4LlKL_L"
      }
    },
    {
      "cell_type": "code",
      "source": [
        "\n",
        "import numpy as np\n",
        "\n",
        "#Create two arrays: a = [1, 3, 5, 7, 9] and b = [2, 4, 6, 8, 10]. Perform element-wise subtraction.\n",
        "arr_a=np.array([1,3,5,7,9])\n",
        "arr_b=np.array([2,4,6,8,10])\n",
        "subtract_arr=np.subtract(arr_a,arr_b)\n",
        "print(\"different:\\n\",subtract_arr)\n",
        "\n",
        "diff_arr=arr_a - arr_b\n",
        "print(\"\\ndifferent array:\\n\",diff_arr)\n",
        "\n",
        "#Multiply array a by 3: a = [2, 4, 6, 8].\n",
        "arr=np.array([2,4,6,8])\n",
        "multi_arr=np.multiply(arr,3)\n",
        "print(\"\\nproduct:\\n\",multi_arr)\n",
        "\n",
        "multi_arr1=arr*3\n",
        "print(\"\\nproduct array:\\n\",multi_arr1)\n",
        "\n",
        "#Divide array a by 2: a = [10, 20, 30, 40].\n",
        "arr=np.array([10,20,30,40])\n",
        "div_arr=np.divide(arr,2)\n",
        "print(\"divided array:\\n\",div_arr)\n",
        "\n",
        "div_arr1=arr/2\n",
        "print(\"divided array2:\\n\",div_arr1)\n",
        "\n",
        "#Find the element-wise modulus of two arrays: a = [5, 10, 15], b = [2, 3, 4].\n",
        "arr_a=np.array([5,10,15])\n",
        "arr_b=np.array([2,3,4])\n",
        "mod_arr=np.mod(arr_a,arr_b)\n",
        "print(\" \\nthe element-wise modulus of two arrays:\\n\",mod_arr)\n",
        "\n",
        "#Create two arrays: a = [1, 2, 3], b = [4, 5, 6]. Compute the dot product\n",
        "array_a=np.array([1,2,3])\n",
        "array_b=np.array([4,5,6])\n",
        "dot_product=np.dot(array_a,array_b)\n",
        "print(\"\\n Dot product:\\n\",dot_product)\n"
      ],
      "metadata": {
        "colab": {
          "base_uri": "https://localhost:8080/"
        },
        "id": "U-mZS_TgKRYx",
        "outputId": "aca485e0-de72-4661-c082-2321929348b6"
      },
      "execution_count": null,
      "outputs": [
        {
          "output_type": "stream",
          "name": "stdout",
          "text": [
            "different:\n",
            " [-1 -1 -1 -1 -1]\n",
            "\n",
            "different array:\n",
            " [-1 -1 -1 -1 -1]\n",
            "\n",
            "product:\n",
            " [ 6 12 18 24]\n",
            "\n",
            "product array:\n",
            " [ 6 12 18 24]\n",
            "divided array:\n",
            " [ 5. 10. 15. 20.]\n",
            "divided array2:\n",
            " [ 5. 10. 15. 20.]\n",
            " \n",
            "the element-wise modulus of two arrays:\n",
            " [1 1 3]\n",
            "\n",
            " Dot product:\n",
            " 32\n"
          ]
        }
      ]
    },
    {
      "cell_type": "markdown",
      "source": [
        "***3.Matrix Multiplication***\n",
        "1. Create two matrices: a = [[2, 3], [4, 5]] and b = [[1, 0], [0, 1]]. Perform matrix\n",
        "multiplication.\n",
        "2. Multiply a 3x3 matrix with a 3x1 vector.\n",
        "3. Create a 4x4 identity matrix and multiply it by a 4x4 matrix filled with random\n",
        "integers.\n",
        "4. Perform matrix multiplication on two 3x3 matrices: a = [[1, 2, 3], [4, 5, 6], [7, 8, 9]]\n",
        "and b = [[9, 8, 7], [6, 5, 4], [3, 2, 1]].\n",
        "5. Create a 2x3 matrix and a 3x2 matrix. Perform matrix multiplication."
      ],
      "metadata": {
        "id": "FjmGd46eQXWN"
      }
    },
    {
      "cell_type": "code",
      "source": [
        "import numpy as np\n",
        "#Create two matrices: a = [[2, 3], [4, 5]] and b = [[1, 0], [0, 1]]. Perform matrix multiplication.\n",
        "matrix_a=([[2,3],[4,5]])\n",
        "matrix_b=([[1,0],[0,1]])\n",
        "matrix_multi=np.dot(matrix_a,matrix_b)\n",
        "print(\"matrix multiplication:\\n\",matrix_multi)\n",
        "\n",
        "#Multiply a 3x3 matrix with a 3x1 vector.\n",
        "matrix_a=([[1,2,3],[4,5,6],[6,7,8]])\n",
        "vector_b=([[10],[20],[30]])\n",
        "result=np.dot(matrix_a,vector_b)\n",
        "print(\"\\nmatrix vector:\\n\",result)\n",
        "\n",
        "#Create a 4x4 identity matrix and multiply it by a 4x4 matrix filled with random integers.\n",
        "indentity_matrix=np.eye(4)\n",
        "random_matrix=np.random.randint(1,10,(4,4))\n",
        "result_matrix=np.dot(indentity_matrix,random_matrix)\n",
        "print(\"\\n indenty matrix:\\n\",indentity_matrix)\n",
        "print(\"\\n random matrix:\\n\",random_matrix)\n",
        "print(\"\\n result matrix:\\n\",result_matrix)\n",
        "\n",
        "#Perform matrix multiplication on two 3x3 matrices: a = [[1, 2, 3], [4, 5, 6], [7, 8, 9]] and b = [[9, 8, 7], [6, 5, 4], [3, 2, 1]].\n",
        "matrix_a=([[1, 2, 3], [4, 5, 6], [7, 8, 9]])\n",
        "matrix_b=([[9, 8, 7], [6, 5, 4], [3, 2, 1]])\n",
        "result=np.dot(matrix_a,matrix_b)\n",
        "print(\"\\nproduct matrix:\\n\",result)\n",
        "\n",
        "#Create a 2x3 matrix and a 3x2 matrix. Perform matrix multiplication.\n",
        "matrix_a=([[1,2,3],[4,5,6]])\n",
        "matrix_b=([[7,8],[9,10],[11,12]])\n",
        "result_matrix_multiplication=np.dot(matrix_a,matrix_b)\n",
        "print(\"\\nmatrix multiplication.\\n\",result_matrix_multiplication)\n",
        "\n"
      ],
      "metadata": {
        "colab": {
          "base_uri": "https://localhost:8080/"
        },
        "id": "cn5Y727EQhe1",
        "outputId": "b328516f-5453-4260-d2fc-42557c8dba18"
      },
      "execution_count": null,
      "outputs": [
        {
          "output_type": "stream",
          "name": "stdout",
          "text": [
            "matrix multiplication:\n",
            " [[2 3]\n",
            " [4 5]]\n",
            "\n",
            "matrix vector:\n",
            " [[140]\n",
            " [320]\n",
            " [440]]\n",
            "\n",
            " indenty matrix:\n",
            " [[1. 0. 0. 0.]\n",
            " [0. 1. 0. 0.]\n",
            " [0. 0. 1. 0.]\n",
            " [0. 0. 0. 1.]]\n",
            "\n",
            " random matrix:\n",
            " [[7 8 4 2]\n",
            " [7 1 7 6]\n",
            " [4 4 1 6]\n",
            " [3 2 1 1]]\n",
            "\n",
            " result matrix:\n",
            " [[7. 8. 4. 2.]\n",
            " [7. 1. 7. 6.]\n",
            " [4. 4. 1. 6.]\n",
            " [3. 2. 1. 1.]]\n",
            "\n",
            "product matrix:\n",
            " [[ 30  24  18]\n",
            " [ 84  69  54]\n",
            " [138 114  90]]\n",
            "\n",
            "matrix multiplication.\n",
            " [[ 58  64]\n",
            " [139 154]]\n"
          ]
        }
      ]
    },
    {
      "cell_type": "markdown",
      "source": [
        "****4.Broadcasting****\n",
        "1. Create a 1D array: array = [10, 20, 30]. Subtract a scalar value, 5, using broadcasting.\n",
        "2. Create a 3x3 array and a 3x1 array. Add them using broadcasting.\n",
        "3. Divide a 4x4 array by a scalar value, 2, using broadcasting.\n",
        "4. Create a 3x3 array and add 3 to each element using broadcasting.\n",
        "5. Multiply a 1D array of shape (5,) by a 2D array of shape (5, 5) using broadcasting."
      ],
      "metadata": {
        "id": "sOPDVFjwjWcC"
      }
    },
    {
      "cell_type": "code",
      "source": [
        "import numpy as np\n",
        "\n",
        "#Create a 1D array: array = [10, 20, 30]. Subtract a scalar value, 5, using broadcasting.\n",
        "arr_a= np.array([10,20,30])\n",
        "scalar=5\n",
        "broadcasted_array=array_a-scalar\n",
        "print(\"broadcasted Array:\\n\",broadcasted_array)\n",
        "\n",
        "#Create a 3x3 array and a 3x1 array. Add them using broadcasting.\n",
        "arr_a=np.array([[1,2,3],[4,5,6],[7,8,9]])\n",
        "arr_b=np.array([[10],[20],[30]])\n",
        "broadcasted_array=arr_a + arr_b\n",
        "print(\"\\n Add using broadcasting:\\n\",broadcasted_array)\n",
        "\n",
        "#Divide a 4x4 array by a scalar value, 2, using broadcasting.\n",
        "arr_a=np.array([[1,2,3,4],[5,6,7,8,],[9,10,11,12,],[13,14,15,16,]])\n",
        "scalar=2\n",
        "broadcasted_array=arr_a/2\n",
        "print(\"\\n divide using broadcasting:\\n\",broadcasted_array)\n",
        "\n",
        "#Create a 3x3 array and add 3 to each element using broadcasting.\n",
        "arr_a=np.array([[1,2,3],[4,5,6],[7,8,9]])\n",
        "scalar=3\n",
        "broadcasted_array=array_a + scalar\n",
        "print(\"\\n Add using broadcasting:\\n\",broadcasted_array)\n",
        "\n",
        "#Multiply a 1D array of shape (5,) by a 2D array of shape (5, 5) using broadcasting.\n",
        "arr_a= np.array([1,2,3,4,5])\n",
        "arr_b=np.array([[1,2,3,4,5],[6,7,8,9,10],[11,12,13,14,15],[16,17,18,19,20],[21,22,23,24,25]])\n",
        "broadcasted_array=arr_a[:,np.newaxis]*arr_b\n",
        "print(\"\\nshaping using broadcasting:\\n\",broadcasted_array)\n",
        "\n"
      ],
      "metadata": {
        "colab": {
          "base_uri": "https://localhost:8080/"
        },
        "id": "j40GwpiljbUo",
        "outputId": "8afe23ac-654c-4833-9273-0afffb199ed1"
      },
      "execution_count": null,
      "outputs": [
        {
          "output_type": "stream",
          "name": "stdout",
          "text": [
            "broadcasted Array:\n",
            " [-4 -3 -2]\n",
            "\n",
            " Add using broadcasting:\n",
            " [[11 12 13]\n",
            " [24 25 26]\n",
            " [37 38 39]]\n",
            "\n",
            " divide using broadcasting:\n",
            " [[0.5 1.  1.5 2. ]\n",
            " [2.5 3.  3.5 4. ]\n",
            " [4.5 5.  5.5 6. ]\n",
            " [6.5 7.  7.5 8. ]]\n",
            "\n",
            " Add using broadcasting:\n",
            " [4 5 6]\n",
            "\n",
            "shaping using broadcasting:\n",
            " [[  1   2   3   4   5]\n",
            " [ 12  14  16  18  20]\n",
            " [ 33  36  39  42  45]\n",
            " [ 64  68  72  76  80]\n",
            " [105 110 115 120 125]]\n"
          ]
        }
      ]
    },
    {
      "cell_type": "markdown",
      "source": [
        "*****5.Statistical Operations*****\n",
        "1. Calculate the median of the array: data = [1, 2, 3, 4, 5, 6, 7, 8, 9, 10].\n",
        "2. Calculate the mode of the array: data = [1, 2, 2, 3, 4, 4, 4, 5, 6].\n",
        "3. Calculate the range of the array: data = [10, 20, 30, 40, 50].\n",
        "4. Calculate the 25th percentile of the array: data = [1, 2, 3, 4, 5, 6, 7, 8, 9, 10].\n",
        "5. Calculate the correlation coefficient between two arrays: a = [1, 2, 3, 4, 5] and b = [2,\n",
        "4, 6, 8, 10]."
      ],
      "metadata": {
        "id": "LeWrY3uMuRIt"
      }
    },
    {
      "cell_type": "code",
      "source": [
        "import numpy as np\n",
        "#Calculate the median of the array: data = [1, 2, 3, 4, 5, 6, 7, 8, 9, 10].\n",
        "data =np.array([1, 2, 3, 4, 5, 6, 7, 8, 9, 10])\n",
        "median_value=np.median(data)\n",
        "print(\"Median value:\\n\",median_value)\n",
        "\n",
        "from scipy import stats\n",
        "#Calculate the mode of the array: data = [1, 2, 2, 3, 4, 4, 4, 5, 6].\n",
        "data=np.array([1, 2, 2, 3, 4, 4, 4, 5, 6])\n",
        "mode_value=stats.mode(data)\n",
        "print(\"\\nMode value:\\n\",mode_value)\n",
        "\n",
        "#Calculate the range of the array: data = [10, 20, 30, 40, 50].\n",
        "data = np.array([10, 20, 30, 40, 50])\n",
        "range_of_arr=np.ptp(data)\n",
        "print(\"\\nRange of array-->\",range_of_arr)\n",
        "\n",
        "#Calculate the 25th percentile of the array: data = [1, 2, 3, 4, 5, 6, 7, 8, 9, 10].\n",
        "data=np.array([1, 2, 3, 4, 5, 6, 7, 8, 9, 10])\n",
        "percentile_value=np.percentile(data,25)\n",
        "print(\"\\n25th percentile of the array-->\",percentile_value)\n",
        "\n",
        "#Calculate the correlation coefficient between two arrays: a = [1, 2, 3, 4, 5] and b = [2, 4, 6, 8, 10].\n",
        "\n",
        "data_a =np.array([1, 2, 3, 4, 5])\n",
        "data_b =np.array([2, 4, 6, 8, 10])\n",
        "correlation_coefficient_value=np.corrcoef(data_a,data_b)\n",
        "print(\"\\n correlation coefficient value-->\\n\",correlation_coefficient_value)\n",
        "\n",
        "\n",
        "\n"
      ],
      "metadata": {
        "colab": {
          "base_uri": "https://localhost:8080/"
        },
        "id": "LF8vCQT2udd9",
        "outputId": "0cb4f9c1-0391-4712-d23c-0e2712f53656"
      },
      "execution_count": null,
      "outputs": [
        {
          "output_type": "stream",
          "name": "stdout",
          "text": [
            "Median value:\n",
            " 5.5\n",
            "\n",
            "Mode value:\n",
            " ModeResult(mode=4, count=3)\n",
            "\n",
            "Range of array--> 40\n",
            "\n",
            "25th percentile of the array--> 3.25\n",
            "\n",
            " correlation coefficient value-->\n",
            " [[1. 1.]\n",
            " [1. 1.]]\n"
          ]
        }
      ]
    },
    {
      "cell_type": "markdown",
      "source": [
        "**6.Reshaping Arrays**\n",
        "\n",
        "1. Reshape a 1D array of 12 elements to a 3x4 array.\n",
        "2. Reshape a 2D array of shape (6, 2) to (3, 4).\n",
        "3. Create a 4x4 array and flatten it.\n",
        "4. Reshape a 3D array of shape (2, 3, 4) to (4, 3, 2).\n",
        "5. Reshape a 1D array to a 2D array with 1 row and many columns."
      ],
      "metadata": {
        "id": "ln71npvI2so5"
      }
    },
    {
      "cell_type": "code",
      "source": [
        "import numpy as np\n",
        "#Reshape a 1D array of 12 elements to a 3x4 array.\n",
        "arr =np.array([1, 2, 3, 4, 5, 6, 7, 8, 9, 10,11,12])\n",
        "Reshape_arr=arr.reshape(3,4)\n",
        "print(\"Reshape Array:\\n\",Reshape_arr)\n",
        "\n",
        "#Reshape a 2D array of shape (6, 2) to (3, 4).\n",
        "arr =np.array([[1, 2],[ 3, 4],[ 5, 6],[7, 8],[9, 10],[11,12]])\n",
        "Reshape_arr=arr.reshape(3,4)\n",
        "print(\"\\n Reshape Array2:\\n\",Reshape_arr)\n",
        "\n",
        "#Create a 4x4 array and flatten it\n",
        "arr =np.array([[1, 2, 3, 4],[ 5, 6, 7, 8],[9, 10,11,12],[13,14,15,16]])\n",
        "flatten_array=arr.flatten()\n",
        "print(\"\\noriginal array:\\n\",arr)\n",
        "print(\"\\nflatten array:\\n\",flatten_array)\n",
        "\n",
        "#Reshape a 3D array of shape (2, 3, 4) to (4, 3, 2)\n",
        "arr=np.arange(24).reshape(2,3,4)\n",
        "Reshape_arr=arr.reshape(4,3,2)\n",
        "print(\"\\noriginal array2:\\n\",arr)\n",
        "print(\"\\n reshaped array2:\\n\",Reshape_arr)\n",
        "\n",
        "#Reshape a 1D array to a 2D array with 1 row and many columns.\n",
        "arr=np.array([1,2,3,4,5,6])\n",
        "Reshape_arr=arr.reshape(1,-1)\n",
        "print(\"\\noriginal array3:\\n\",arr)\n",
        "print(\"\\nreshaped array3:\\n\",Reshape_arr)\n",
        "\n",
        "\n",
        "\n",
        "\n"
      ],
      "metadata": {
        "colab": {
          "base_uri": "https://localhost:8080/"
        },
        "id": "9XL0cYZr2wm0",
        "outputId": "f923d0b5-a01f-428b-b3c0-951d0867101e"
      },
      "execution_count": null,
      "outputs": [
        {
          "output_type": "stream",
          "name": "stdout",
          "text": [
            "Reshape Array:\n",
            " [[ 1  2  3  4]\n",
            " [ 5  6  7  8]\n",
            " [ 9 10 11 12]]\n",
            "\n",
            " Reshape Array2:\n",
            " [[ 1  2  3  4]\n",
            " [ 5  6  7  8]\n",
            " [ 9 10 11 12]]\n",
            "\n",
            "original array:\n",
            " [[ 1  2  3  4]\n",
            " [ 5  6  7  8]\n",
            " [ 9 10 11 12]\n",
            " [13 14 15 16]]\n",
            "\n",
            "flatten array:\n",
            " [ 1  2  3  4  5  6  7  8  9 10 11 12 13 14 15 16]\n",
            "\n",
            "original array2:\n",
            " [[[ 0  1  2  3]\n",
            "  [ 4  5  6  7]\n",
            "  [ 8  9 10 11]]\n",
            "\n",
            " [[12 13 14 15]\n",
            "  [16 17 18 19]\n",
            "  [20 21 22 23]]]\n",
            "\n",
            " reshaped array2:\n",
            " [[[ 0  1]\n",
            "  [ 2  3]\n",
            "  [ 4  5]]\n",
            "\n",
            " [[ 6  7]\n",
            "  [ 8  9]\n",
            "  [10 11]]\n",
            "\n",
            " [[12 13]\n",
            "  [14 15]\n",
            "  [16 17]]\n",
            "\n",
            " [[18 19]\n",
            "  [20 21]\n",
            "  [22 23]]]\n",
            "\n",
            "original array3:\n",
            " [1 2 3 4 5 6]\n",
            "\n",
            "reshaped array3:\n",
            " [[1 2 3 4 5 6]]\n"
          ]
        }
      ]
    },
    {
      "cell_type": "markdown",
      "source": [
        "**7.Element-wise Operations**\n",
        "1. Create two arrays: a = [1, 3, 5] and b = [2, 4, 6]. Perform element-wise division.\n",
        "2. Create two arrays: a = [2, 4, 6] and b = [1, 3, 5]. Perform element-wise modulus.\n",
        "3. Add 10 to each element in the array: a = [1, 2, 3, 4, 5].\n",
        "4. Subtract 5 from each element in the array: b = [10, 20, 30, 40, 50].\n",
        "5. Square each element in the array: c = [1, 2, 3, 4, 5]."
      ],
      "metadata": {
        "id": "l9U9kBEx8V3s"
      }
    },
    {
      "cell_type": "code",
      "source": [
        "import numpy as np\n",
        "#Create two arrays: a = [1, 3, 5] and b = [2, 4, 6]. Perform element-wise division.\n",
        "arr_a=np.array([1, 3, 5])\n",
        "arr_b=np.array([2, 4, 6])\n",
        "result_array=arr_a / arr_b\n",
        "print(\"element-wise division:\",result_array)\n",
        "\n",
        "#Create two arrays: a = [2, 4, 6] and b = [1, 3, 5]. Perform element-wise modulus.\n",
        "arr_a=np.array([2,4,6])\n",
        "arr_b=np.array([1,3,6])\n",
        "result_array=arr_a % arr_b\n",
        "print(\"\\nelement-wise division:\",result_array)\n",
        "\n",
        "#Add 10 to each element in the array: a = [1, 2, 3, 4, 5].\n",
        "arr = np.array([1, 2, 3, 4, 5])\n",
        "result_array=arr+10\n",
        "print(\"\\n Add 10 to each element in the array:\",result_array)\n",
        "\n",
        "#Subtract 5 from each element in the array: b = [10, 20, 30, 40, 50].\n",
        "arr = np.array([10, 20, 30, 40, 50])\n",
        "result_array=arr-5\n",
        "print(\"\\nSubtract 5 from each element in the array:\",result_array)\n",
        "\n",
        "#Square each element in the array: c = [1, 2, 3, 4, 5].\n",
        "arr = np.array([1, 2, 3, 4, 5])\n",
        "result_array=arr**2\n",
        "print(\"\\n Square each element in the array:\",result_array)\n",
        "\n",
        "\n"
      ],
      "metadata": {
        "colab": {
          "base_uri": "https://localhost:8080/"
        },
        "id": "iYbKIf0T8bsV",
        "outputId": "3e1f2cb1-6ae7-4caf-acd8-d9c691add7ab"
      },
      "execution_count": null,
      "outputs": [
        {
          "output_type": "stream",
          "name": "stdout",
          "text": [
            "element-wise division: [0.5        0.75       0.83333333]\n",
            "\n",
            "element-wise division: [0 1 0]\n",
            "\n",
            " Add 10 to each element in the array: [11 12 13 14 15]\n",
            "\n",
            "Subtract 5 from each element in the array: [ 5 15 25 35 45]\n",
            "\n",
            " Square each element in the array: [ 1  4  9 16 25]\n"
          ]
        }
      ]
    },
    {
      "cell_type": "markdown",
      "source": [
        "**8.Slicing and Indexing**\n",
        "1. Create a 3D array: array_3d = [[[1, 2, 3], [4, 5, 6]], [[7, 8, 9], [10, 11, 12]]]. Access\n",
        "the element at [1, 1, 1].\n",
        "2. Slice the first layer of a 3D array: array_3d = [[[1, 2, 3], [4, 5, 6]], [[7, 8, 9], [10, 11,\n",
        "12]]].\n",
        "3. Access all elements in the last row of the array: array_2d = [[10, 20, 30], [40, 50, 60],\n",
        "[70, 80, 90]].\n",
        "4. Access all elements in the first column of the array: array_2d = [[10, 20, 30], [40, 50,\n",
        "60], [70, 80, 90]].\n",
        "5. Slice the last two rows and columns of the array: array_2d = [[10, 20, 30], [40, 50,\n",
        "60], [70, 80, 90]]."
      ],
      "metadata": {
        "id": "YCTqmHa69u6_"
      }
    },
    {
      "cell_type": "code",
      "source": [
        "import numpy as np\n",
        "#Create a 3D array: array_3d = [[[1, 2, 3], [4, 5, 6]], [[7, 8, 9], [10, 11, 12]]]. Access the element at [1, 1, 1].\n",
        "array_3d =np.array([[[1, 2, 3], [4, 5, 6]], [[7, 8, 9], [10, 11, 12]]])\n",
        "print(\"array 3D:\\n\",array_3d)\n",
        "element=array_3d[1,1,1]\n",
        "print(\"element at [1,1,1]:\",element)\n",
        "\n",
        "#Slice the first layer of a 3D array: array_3d = [[[1, 2, 3], [4, 5, 6]], [[7, 8, 9], [10, 11, 12]]].\n",
        "array_3d =np.array([[[1, 2, 3], [4, 5, 6]], [[7, 8, 9], [10, 11, 12]]])\n",
        "element_array=array_3d[0:1,]\n",
        "print(\"\\nSlice the first layer of a 3D array:\\n\",element_array)\n",
        "\n",
        "#Access all elements in the last row of the array: array_2d = [[10, 20, 30], [40, 50, 60], [70, 80, 90]].\n",
        "array_2d =np.array([[10, 20, 30], [40, 50, 60], [70, 80, 90]])\n",
        "ele_arr=array_2d[-1:,]\n",
        "print(\"\\nAccess all elements in the last row of the array:\\n\",ele_arr)\n",
        "\n",
        "#Access all elements in the first column of the array: array_2d = [[10, 20, 30], [40, 50, 60], [70, 80, 90]].\n",
        "array_2d =np.array([[10, 20, 30], [40, 50, 60], [70, 80, 90]])\n",
        "ele_arr=array_2d[:,1]\n",
        "print(\"\\nAccess all elements in the first column of the array:\\n\",ele_arr)\n",
        "\n",
        "#Slice the last two rows and columns of the array: array_2d = [[10, 20, 30], [40, 50, 60], [70, 80, 90]].\n",
        "array_2d =np.array([[10, 20, 30], [40, 50, 60], [70, 80, 90]])\n",
        "ele_arr=array_2d[1:,]\n",
        "print(\"\\nSlice the last two rows and columns of the array:\\n\",ele_arr)\n"
      ],
      "metadata": {
        "colab": {
          "base_uri": "https://localhost:8080/"
        },
        "id": "sCQ-pzM2-Ar_",
        "outputId": "22ebb340-60da-4702-f579-7c1ec614e17e"
      },
      "execution_count": 7,
      "outputs": [
        {
          "output_type": "stream",
          "name": "stdout",
          "text": [
            "array 3D:\n",
            " [[[ 1  2  3]\n",
            "  [ 4  5  6]]\n",
            "\n",
            " [[ 7  8  9]\n",
            "  [10 11 12]]]\n",
            "element at [1,1,1]: 11\n",
            "\n",
            "Slice the first layer of a 3D array:\n",
            " [[[1 2 3]\n",
            "  [4 5 6]]]\n",
            "\n",
            "Access all elements in the last row of the array:\n",
            " [[70 80 90]]\n",
            "\n",
            "Access all elements in the first column of the array:\n",
            " [20 50 80]\n",
            "\n",
            "Slice the last two rows and columns of the array:\n",
            " [[40 50 60]\n",
            " [70 80 90]]\n"
          ]
        }
      ]
    },
    {
      "cell_type": "markdown",
      "source": [
        "**9.Creating Random Arrays**\n",
        "1. Generate a random array of 20 elements with values between 0 and 1.\n",
        "2. Create a 4x4 array with random integers between 10 and 20.\n",
        "3. Create a 3x3 array with random floats between -1 and 1.\n",
        "4. Generate an array of 15 random integers between 100 and 200.\n",
        "5. Create a 5x5 array with random floats between 0 and 10."
      ],
      "metadata": {
        "id": "UFzBYi1L-395"
      }
    },
    {
      "cell_type": "code",
      "source": [
        "import numpy as np\n",
        "\n",
        "#Generate a random array of 20 elements with values between 0 and 1.\n",
        "random_arr=np.random.rand(20)\n",
        "print(\" random array of 20 elements with values between 0 and 1:\\n\",random_arr)\n",
        "\n",
        "#Create a 4x4 array with random integers between 10 and 20.\n",
        "random_arr=np.random.randint(10,20,(4,4))\n",
        "print(\"\\n 4x4 array with random integers between 10 and 20\\n\",random_arr)\n",
        "\n",
        "#Create a 3x3 array with random floats between -1 and 1.\n",
        "random_arr=np.random.randint(-1,1,(3,3))\n",
        "print(\"\\n 3x3 array with random floats between -1 and 1\\n\",random_arr)\n",
        "\n",
        "#Generate an array of 15 random integers between 100 and 200.\n",
        "random_arr=np.random.randint(100,200,15)\n",
        "print(\"\\narray of 15 random integers between 100 and 200\\n\",random_arr)\n",
        "\n",
        "#Create a 5x5 array with random floats between 0 and 10.\n",
        "random_arr=np.random.randint(0,10,(5,5))\n",
        "print(\"\\n5x5 array with random floats between 0 and 10\\n\",random_arr)"
      ],
      "metadata": {
        "colab": {
          "base_uri": "https://localhost:8080/"
        },
        "id": "sR3yARQ6-8XR",
        "outputId": "8aa4abe7-3702-47d1-9799-a78dbd3d76f8"
      },
      "execution_count": 25,
      "outputs": [
        {
          "output_type": "stream",
          "name": "stdout",
          "text": [
            " random array of 20 elements with values between 0 and 1:\n",
            " [0.22183351 0.90269071 0.1020826  0.90748779 0.08010831 0.7263188\n",
            " 0.12292399 0.20252511 0.05329084 0.47749551 0.85520459 0.88991756\n",
            " 0.47265693 0.98482598 0.0662952  0.79127679 0.64261786 0.28004622\n",
            " 0.72502925 0.39527599]\n",
            "\n",
            " 4x4 array with random integers between 10 and 20\n",
            " [[11 19 17 16]\n",
            " [13 17 17 10]\n",
            " [10 12 18 17]\n",
            " [15 18 10 13]]\n",
            "\n",
            " 3x3 array with random floats between -1 and 1\n",
            " [[-1  0  0]\n",
            " [ 0  0 -1]\n",
            " [-1 -1 -1]]\n",
            "\n",
            "array of 15 random integers between 100 and 200\n",
            " [169 137 166 109 164 172 158 103 102 180 128 165 168 163 154]\n",
            "\n",
            "5x5 array with random floats between 0 and 10\n",
            " [[2 4 2 0 5]\n",
            " [9 7 4 1 7]\n",
            " [1 3 0 8 0]\n",
            " [3 7 1 1 6]\n",
            " [2 2 3 5 1]]\n"
          ]
        }
      ]
    },
    {
      "cell_type": "markdown",
      "source": [
        "**10.Stacking and Concatenating Arrays**\n",
        "1. Vertically stack two arrays: a = [[1, 2], [3, 4]] and b = [[5, 6], [7, 8]].\n",
        "2. Horizontally stack two arrays: a = [[1, 2], [3, 4]] and b = [[5, 6], [7, 8]].\n",
        "3. Concatenate two 1D arrays: a = [1, 2, 3] and b = [4, 5, 6].\n",
        "4. Concatenate two 3x3 arrays along rows: a = [[1, 2, 3], [4, 5, 6], [7, 8, 9]] and b = [[10,\n",
        "11, 12], [13, 14, 15], [16, 17, 18]].\n",
        "5. Concatenate two 3x3 arrays along columns: a = [[1, 2, 3], [4, 5, 6], [7, 8, 9]] and b =\n",
        "[[10, 11, 12], [13, 14, 15], [16, 17, 18]]."
      ],
      "metadata": {
        "id": "DmsKiWSnFcXx"
      }
    },
    {
      "cell_type": "code",
      "source": [
        "import numpy as np\n",
        "\n",
        "#Vertically stack two arrays: a = [[1, 2], [3, 4]] and b = [[5, 6], [7, 8]].\n",
        "\n",
        "arr_a=np.array([[1, 2], [3, 4]])\n",
        "arr_b=np.array([[5, 6], [7, 8]])\n",
        "Vertically_stack = np.vstack((arr_a,arr_b))\n",
        "print(\"Vertically stack two arrays:\\n\",Vertically_stack)\n",
        "\n",
        "#Horizontally stack two arrays: a = [[1, 2], [3, 4]] and b = [[5, 6], [7, 8]].\n",
        "\n",
        "Horizontally_stack = np.hstack((arr_a,arr_b))\n",
        "print(\"\\nHorizontally stack two arrays:\\n\",Horizontally_stack)\n",
        "\n",
        "#Concatenate two 1D arrays: a = [1, 2, 3] and b = [4, 5, 6].\n",
        "\n",
        "arr_a=np.array([1, 2,3])\n",
        "arr_b=np.array([4,5,6])\n",
        "#concatenate_arr=arr_a + arr_b\n",
        "a=np.concatenate((arr_a ,arr_b))\n",
        "#print(\"\\nConcatenate two 1D arrays:\\n\",Concatenate_arr)\n",
        "print(\"\\nConcatenate two 1D arrays:\\n\",a)\n",
        "\n",
        "#Concatenate two 3x3 arrays along rows: a = [[1, 2, 3], [4, 5, 6], [7, 8, 9]] and b = [[10, 11, 12], [13, 14, 15], [16, 17, 18]].\n",
        "\n",
        "arr_a=np.array([[1, 2,3],[4,5,6],[7,8,9]])\n",
        "arr_b=np.array([[10,11,12],[13,14,15],[16,17,18]])\n",
        "cont_arr=np.concatenate((arr_a,arr_b),axis=0)#axis=0 use for row\n",
        "print(\"\\nConcatenate two 3x3 arrays along rows:\\n\",cont_arr)\n",
        "\n",
        "#Concatenate two 3x3 arrays along columns: a = [[1, 2, 3], [4, 5, 6], [7, 8, 9]] and b = [[10, 11, 12], [13, 14, 15], [16, 17, 18]].\n",
        "\n",
        "cont_arr=np.concatenate((arr_a,arr_b),axis=1)#axis=1 use for column\n",
        "print(\"\\nConcatenate two 3x3 arrays along rows:\\n\",cont_arr)\n",
        "\n",
        "\n"
      ],
      "metadata": {
        "colab": {
          "base_uri": "https://localhost:8080/"
        },
        "id": "8JD8FAErFgpQ",
        "outputId": "a8b855e3-859e-486d-df4a-3c8ac7ab0c60"
      },
      "execution_count": 39,
      "outputs": [
        {
          "output_type": "stream",
          "name": "stdout",
          "text": [
            "Vertically stack two arrays:\n",
            " [[1 2]\n",
            " [3 4]\n",
            " [5 6]\n",
            " [7 8]]\n",
            "\n",
            "Horizontally stack two arrays:\n",
            " [[1 2 5 6]\n",
            " [3 4 7 8]]\n",
            "\n",
            "Concatenate two 1D arrays:\n",
            " [1 2 3 4 5 6]\n",
            "\n",
            "Concatenate two 3x3 arrays along rows:\n",
            " [[ 1  2  3]\n",
            " [ 4  5  6]\n",
            " [ 7  8  9]\n",
            " [10 11 12]\n",
            " [13 14 15]\n",
            " [16 17 18]]\n",
            "\n",
            "Concatenate two 3x3 arrays along rows:\n",
            " [[ 1  2  3 10 11 12]\n",
            " [ 4  5  6 13 14 15]\n",
            " [ 7  8  9 16 17 18]]\n"
          ]
        }
      ]
    }
  ]
}